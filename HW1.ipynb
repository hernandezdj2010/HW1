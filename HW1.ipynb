{
 "cells": [
  {
   "cell_type": "markdown",
   "metadata": {},
   "source": [
    "\n",
    "\n",
    "# Homework 1: Basic concepts on light waves\n",
    "José Hernández Delgado \n",
    "\n",
    "\n",
    "Instructions: Solve five of the following excersizes\n",
    "\n",
    "1.-Light ranges in wavelength roughly from violet at $390 nm$ to red at $780 nm$. Its speed in vacuum is about $3 * 10^8 m/s$, as is the case for all electromagnetic waves. Determine the corresponding frecuency range.\n",
    "\n"
   ]
  },
  {
   "cell_type": "code",
   "execution_count": 65,
   "metadata": {},
   "outputs": [],
   "source": [
    "%matplotlib inline\n",
    "from ipywidgets import interactive, fixed\n",
    "import matplotlib.pyplot as plt\n",
    "import numpy as np\n",
    "import sympy as sym\n",
    "import sympy as sp"
   ]
  },
  {
   "cell_type": "markdown",
   "metadata": {},
   "source": [
    "We can calculate using the following equation: $$f = \\frac{c}{\\lambda}$$"
   ]
  },
  {
   "cell_type": "markdown",
   "metadata": {},
   "source": [
    "From violet $$390 nm $$:"
   ]
  },
  {
   "cell_type": "code",
   "execution_count": 26,
   "metadata": {},
   "outputs": [
    {
     "name": "stdout",
     "output_type": "stream",
     "text": [
      "  7.69E+14 1/s\n"
     ]
    }
   ],
   "source": [
    "\n",
    "f = (3*10**8)/(390*10**(-9)) \n",
    "print(format(f, \"10.2E\"), \"1/s\")\n"
   ]
  },
  {
   "cell_type": "markdown",
   "metadata": {},
   "source": [
    "And to red $$780 nm $$:"
   ]
  },
  {
   "cell_type": "code",
   "execution_count": 27,
   "metadata": {},
   "outputs": [
    {
     "name": "stdout",
     "output_type": "stream",
     "text": [
      "  3.85E+14 1/s\n"
     ]
    }
   ],
   "source": [
    "f = (3*10**8)/(780*10**(-9)) \n",
    "print(format(f, \"10.2E\"), \"1/s\")"
   ]
  },
  {
   "cell_type": "markdown",
   "metadata": {},
   "source": [
    "$$Frecuency \\ range \\ is \\ from \\ 3.8^{14} \\ to\\ 7.69^{14} Hz$$"
   ]
  },
  {
   "cell_type": "markdown",
   "metadata": {},
   "source": [
    "2.- Sketch the wave $$u(x; t) = A cos(kx-\\omega t)$$ at times $$t = 0$$, $$t = \\tau/4$$ and $$t = \\tau/2. $$"
   ]
  },
  {
   "cell_type": "code",
   "execution_count": 60,
   "metadata": {},
   "outputs": [
    {
     "data": {
      "text/plain": [
       "<matplotlib.legend.Legend at 0xa9c7940>"
      ]
     },
     "execution_count": 60,
     "metadata": {},
     "output_type": "execute_result"
    },
    {
     "data": {
      "image/png": "[encoded data removed]",
      "text/plain": [
       "<Figure size 432x288 with 1 Axes>"
      ]
     },
     "metadata": {
      "needs_background": "light"
     },
     "output_type": "display_data"
    }
   ],
   "source": [
    "x = np.linspace(0,2*np.pi)\n",
    "A = 1\n",
    "k = 1\n",
    "o = 2\n",
    "tau = 1\n",
    "plt.plot(x, A*np.cos(k*x), label = 't = 0')\n",
    "plt.plot(x, A*np.cos(k*x -o*tau/4), label ='t = tao/4' )\n",
    "plt.plot(x, A*np.cos(k*x -o*tau/2), label = 't = tao/2')\n",
    "plt.legend()"
   ]
  },
  {
   "cell_type": "markdown",
   "metadata": {},
   "source": [
    "3.- The equation of a transverse wave is given by y = 6*sin(.020*pi*x + 4*pi*t) where x and y are\n",
    "expressed in cm and t is expressed in seconds. calculate the following:\n",
    "(a) the amplitude of the wave = 6\n",
    "\n",
    "(b) the wavelength of the wave = 1.5x10^6 cm\n",
    "\n",
    "(c) the frequency of the wave = 2 Hz\n",
    "\n",
    "(d) the speed of the wave $$ v =\\omega/k  = 3x10^{8} m/s$$\n",
    "\n",
    "(e) the direction of propagation of the wave is x\n",
    "\n",
    "(f) the maximum transverse speed of a particle of the wave."
   ]
  },
  {
   "cell_type": "markdown",
   "metadata": {},
   "source": [
    " $$Amplitud = 6$$\n",
    " $$\\omega = 4*pi $$ $$f = \\frac{\\omega}{2*pi} = 2 Hz$$\n",
    " $$  \\lambda = \\frac{c}{f}= 1.5x10^{8} m$$ \n",
    " $$ k = \\frac{2*pi}{\\lambda }= \\frac{2*pi}{1.5 x10^{6} cm}$$"
   ]
  },
  {
   "cell_type": "markdown",
   "metadata": {},
   "source": [
    "4.-Verify that the harmonic wave function $$u(x; t) = A sin(kx-\\omega t)$$ is a solution of the one-dimensional\n",
    "differential wave equation."
   ]
  },
  {
   "cell_type": "code",
   "execution_count": 78,
   "metadata": {},
   "outputs": [],
   "source": [
    "x = sp.Symbol('x')\n",
    "t = sp.Symbol('t')\n",
    "w = sp.Symbol('w')\n",
    "k = sp.Symbol('k')\n",
    "A = sp.Symbol('A')\n",
    "p = sp.Symbol('p')\n",
    "u = A*sp.sin(k*x - w*t)\n",
    "e = sp.Symbol('e')"
   ]
  },
  {
   "cell_type": "markdown",
   "metadata": {},
   "source": [
    "$$\\frac{\\partial^{2} u}{\\partial t^2} = c^{2} \\frac{\\partial^{2} u}{\\partial x^2}$$"
   ]
  },
  {
   "cell_type": "code",
   "execution_count": 73,
   "metadata": {},
   "outputs": [
    {
     "data": {
      "text/latex": [
       "$\\displaystyle - A w^{2} \\sin{\\left(k x - t w \\right)}$"
      ],
      "text/plain": [
       "-A*w**2*sin(k*x - t*w)"
      ]
     },
     "execution_count": 73,
     "metadata": {},
     "output_type": "execute_result"
    }
   ],
   "source": [
    "u.diff(t, 2)"
   ]
  },
  {
   "cell_type": "code",
   "execution_count": 74,
   "metadata": {},
   "outputs": [
    {
     "data": {
      "text/latex": [
       "$\\displaystyle - A k^{2} \\sin{\\left(k x - t w \\right)}$"
      ],
      "text/plain": [
       "-A*k**2*sin(k*x - t*w)"
      ]
     },
     "execution_count": 74,
     "metadata": {},
     "output_type": "execute_result"
    }
   ],
   "source": [
    "u.diff(x,2)"
   ]
  },
  {
   "cell_type": "markdown",
   "metadata": {},
   "source": [
    "From wave equation we find: $$c^{2} = \\frac{w^2}{k^{2}} = c^{2}$$ "
   ]
  },
  {
   "cell_type": "markdown",
   "metadata": {},
   "source": [
    "5.-Given the electric field for a plane polarized light wave traveling in the x direction described by $$E(x, t) = E_{0}\\hat{y} cos(k_{x}x -w*t +\\phi)$$\n",
    "Write down a wave form of the magnetic B"
   ]
  },
  {
   "cell_type": "code",
   "execution_count": 79,
   "metadata": {},
   "outputs": [],
   "source": [
    "E = e*sp.cos(k*x-w*t + p)"
   ]
  },
  {
   "cell_type": "code",
   "execution_count": null,
   "metadata": {},
   "outputs": [],
   "source": []
  }
 ],
 "metadata": {
  "kernelspec": {
   "display_name": "Python 3",
   "language": "python",
   "name": "python3"
  },
  "language_info": {
   "codemirror_mode": {
    "name": "ipython",
    "version": 3
   },
   "file_extension": ".py",
   "mimetype": "text/x-python",
   "name": "python",
   "nbconvert_exporter": "python",
   "pygments_lexer": "ipython3",
   "version": "3.8.5"
  }
 },
 "nbformat": 4,
 "nbformat_minor": 4
}
